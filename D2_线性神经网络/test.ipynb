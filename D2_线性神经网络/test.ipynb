{
 "cells": [
  {
   "cell_type": "code",
   "execution_count": 68,
   "id": "934a9d4e-58ae-47e0-85f6-bf9a263b5ceb",
   "metadata": {},
   "outputs": [],
   "source": [
    "import random\n",
    "import torch\n",
    "from d2l import torch as d2l"
   ]
  },
  {
   "cell_type": "code",
   "execution_count": 69,
   "id": "c87b1417-2ac1-448b-b9ea-edee0fe4cc8a",
   "metadata": {},
   "outputs": [],
   "source": [
    "'''生成数据'''\n",
    "def synthetic_data(w, b, num_example):\n",
    "    x = torch.normal(0, 1, (num_example, len(w)))\n",
    "    y = torch.matmul(x, w) + b\n",
    "\n",
    "    y += torch.normal(0.00, 0.01, y.shape)\n",
    "\n",
    "    return x, y.reshape((-1,1))\n",
    "    "
   ]
  },
  {
   "cell_type": "code",
   "execution_count": 70,
   "id": "ded5eaf2-fbdc-48db-a229-9199de74749e",
   "metadata": {},
   "outputs": [],
   "source": [
    "# 生成数据\n",
    "true_w = torch.tensor([2.0, 3.0])\n",
    "true_b = torch.tensor(5.0)\n",
    "features, labels = synthetic_data(true_w, true_b, 1000)"
   ]
  },
  {
   "cell_type": "code",
   "execution_count": 71,
   "id": "bcff4b20-bbc7-4cfc-afde-6f41373fbc37",
   "metadata": {},
   "outputs": [],
   "source": [
    "'''读取数据'''\n",
    "def data_iter(batch_size, features, labels):\n",
    "    num_example = len(features)\n",
    "    indices = list(range(num_example))\n",
    "    random.shuffle(indices)\n",
    "\n",
    "    for i in range(0, num_example, batch_size):\n",
    "        batch_indices = torch.tensor(indices[i : min(i+batch_size, num_example)])\n",
    "        yield features[batch_indices], labels[batch_indices]\n"
   ]
  },
  {
   "cell_type": "code",
   "execution_count": 78,
   "id": "35f61613-dfae-472e-a058-b43c098b0229",
   "metadata": {},
   "outputs": [
    {
     "data": {
      "text/plain": [
       "(tensor([[0.],\n",
       "         [0.]], requires_grad=True),\n",
       " tensor([0.0068], requires_grad=True))"
      ]
     },
     "execution_count": 78,
     "metadata": {},
     "output_type": "execute_result"
    }
   ],
   "source": [
    "'''初始化参数'''\n",
    "# w = torch.normal(0 , 0.01, (2,1))\n",
    "w = torch.tensor([0,0], dtype = torch.float32).reshape((2,1))\n",
    "b = torch.normal(0, 0.01, (1,))\n",
    "w.requires_grad_(True), b.requires_grad_(True)"
   ]
  },
  {
   "cell_type": "code",
   "execution_count": 79,
   "id": "4c6acbc4-45d4-465b-b684-b2a0fe80089e",
   "metadata": {},
   "outputs": [],
   "source": [
    "'''定义模型'''\n",
    "def linear_regression(x, w, b):\n",
    "    y = torch.matmul(x, w) + b\n",
    "    return y"
   ]
  },
  {
   "cell_type": "code",
   "execution_count": 80,
   "id": "67695901-9c1b-4c2a-bfb4-81650a3eb851",
   "metadata": {},
   "outputs": [],
   "source": [
    "'''损失函数'''\n",
    "def squared_loss(y_hat, y):\n",
    "    l = (y_hat - y.reshape(y_hat.shape))**2 /2\n",
    "    return l"
   ]
  },
  {
   "cell_type": "code",
   "execution_count": 81,
   "id": "f7377817-4aa1-4a94-b777-1f3972f67ca0",
   "metadata": {},
   "outputs": [],
   "source": [
    "'''优化算法-随机梯度下降'''\n",
    "def sgd(params, lr, batch_size):\n",
    "    with torch.no_grad():\n",
    "        for param in params:\n",
    "            param -= lr*param.grad/batch_size\n",
    "            param.grad.zero_()"
   ]
  },
  {
   "cell_type": "code",
   "execution_count": 82,
   "id": "e48d2335-8f35-4fc5-8541-2c55f12ed0c2",
   "metadata": {},
   "outputs": [],
   "source": [
    "'''训练'''\n",
    "lr = 0.03\n",
    "num_epochs = 3\n",
    "batch_size = 10"
   ]
  },
  {
   "cell_type": "code",
   "execution_count": 83,
   "id": "0a2e6e20-2f70-46ed-aae6-b8a15eea2808",
   "metadata": {},
   "outputs": [
    {
     "name": "stdout",
     "output_type": "stream",
     "text": [
      "epoch:1, train_loss=0.045988\n",
      "epoch:2, train_loss=0.000182\n",
      "epoch:3, train_loss=0.000049\n"
     ]
    }
   ],
   "source": [
    "for epoch in range(num_epochs):\n",
    "    for x, y in  data_iter(batch_size,features, labels):\n",
    "        y_hat = linear_regression(x, w, b)\n",
    "        # 损失\n",
    "        loss = squared_loss(y_hat, y)\n",
    "        loss.sum().backward()\n",
    "        # 更新参数\n",
    "        sgd([w,b], lr, batch_size)\n",
    "\n",
    "    with torch.no_grad():\n",
    "        train_loss = squared_loss(linear_regression(features, w, b), labels)\n",
    "        print(f'epoch:{epoch+1}, train_loss={float(train_loss.mean()):2f}')"
   ]
  },
  {
   "cell_type": "code",
   "execution_count": null,
   "id": "6975bb3a-0b83-4669-9e52-6f72f57178db",
   "metadata": {},
   "outputs": [],
   "source": []
  },
  {
   "cell_type": "code",
   "execution_count": null,
   "id": "cffb96f3-6642-4505-b0f9-627c56242e5f",
   "metadata": {},
   "outputs": [],
   "source": []
  },
  {
   "cell_type": "code",
   "execution_count": null,
   "id": "215b1fc7-ad27-49e3-be69-2e16b5700723",
   "metadata": {},
   "outputs": [],
   "source": []
  }
 ],
 "metadata": {
  "kernelspec": {
   "display_name": "dl",
   "language": "python",
   "name": "dl"
  },
  "language_info": {
   "codemirror_mode": {
    "name": "ipython",
    "version": 3
   },
   "file_extension": ".py",
   "mimetype": "text/x-python",
   "name": "python",
   "nbconvert_exporter": "python",
   "pygments_lexer": "ipython3",
   "version": "3.9.23"
  }
 },
 "nbformat": 4,
 "nbformat_minor": 5
}
