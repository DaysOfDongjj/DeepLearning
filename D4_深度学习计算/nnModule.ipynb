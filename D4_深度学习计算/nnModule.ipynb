{
 "cells": [
  {
   "cell_type": "markdown",
   "id": "64d973ff-d6de-4f7c-b79a-0f010ba4e2dd",
   "metadata": {},
   "source": [
    "# nn.Module"
   ]
  },
  {
   "cell_type": "markdown",
   "id": "a886f9c0-eeba-4cb7-a7af-6a8c99db096a",
   "metadata": {},
   "source": [
    "nn.Module 是 PyTorch 神经网络的核心基类，所有神经网络模型都应该继承这个类。它提供了构建、训练和管理神经网络所需的基本功能。\n",
    "nn.Module 是一个抽象基类，它定义了神经网络模块的标准接口和行为："
   ]
  },
  {
   "cell_type": "code",
   "execution_count": 7,
   "id": "ef99122a-036e-47a8-90c2-213ef988f99c",
   "metadata": {},
   "outputs": [],
   "source": [
    "import torch.nn as nn\n",
    "import torch\n",
    "\n",
    "# 所有自定义网络都必须继承 nn.Module\n",
    "class MyNetwork(nn.Module):\n",
    "    def __init__(self):\n",
    "        super().__init__()  # 必须调用父类初始化\n",
    "        # 定义网络层\n",
    "        self.layer1 = nn.Linear(10, 5)\n",
    "        self.layer2 = nn.Linear(5, 1)\n",
    "    \n",
    "    def forward(self, x):\n",
    "        # 定义前向传播\n",
    "        x = torch.relu(self.layer1(x))\n",
    "        x = self.layer2(x)\n",
    "        return x"
   ]
  },
  {
   "cell_type": "markdown",
   "id": "b226ec7c-d317-4378-ab6d-ecde51a49eed",
   "metadata": {},
   "source": [
    "## 参数管理（最重要的特性）\n",
    "nn.Module 自动跟踪所有注册的参数："
   ]
  },
  {
   "cell_type": "code",
   "execution_count": 8,
   "id": "78760afc-850f-421e-9a09-9060f9f072bd",
   "metadata": {},
   "outputs": [
    {
     "name": "stdout",
     "output_type": "stream",
     "text": [
      "参数数量: 203520\n",
      "可训练参数: 203520\n",
      "weight: torch.Size([256, 10])\n",
      "linear.weight: torch.Size([256, 784])\n",
      "linear.bias: torch.Size([256])\n"
     ]
    }
   ],
   "source": [
    "class SimpleNet(nn.Module):\n",
    "    def __init__(self):\n",
    "        super().__init__()\n",
    "        self.linear = nn.Linear(784, 256)  # 自动跟踪参数\n",
    "        self.weight = nn.Parameter(torch.randn(256, 10))  # 自定义参数\n",
    "    \n",
    "    def forward(self, x):\n",
    "        x = self.linear(x)\n",
    "        x = x @ self.weight\n",
    "        return x\n",
    "\n",
    "# 使用示例\n",
    "model = SimpleNet()\n",
    "print(\"参数数量:\", sum(p.numel() for p in model.parameters()))\n",
    "print(\"可训练参数:\", sum(p.numel() for p in model.parameters() if p.requires_grad))\n",
    "\n",
    "# 访问特定参数\n",
    "for name, param in model.named_parameters():\n",
    "    print(f\"{name}: {param.shape}\")"
   ]
  },
  {
   "cell_type": "markdown",
   "id": "95c941f0-f2a9-4862-bdd9-f8ed2c648dcb",
   "metadata": {},
   "source": [
    "## 模块嵌套和层次结构\n",
    "nn.Module 支持模块的嵌套，可以构建复杂的网络结构："
   ]
  },
  {
   "cell_type": "code",
   "execution_count": 9,
   "id": "9a272a32-dddf-4910-aeb1-94b4dcc77f79",
   "metadata": {},
   "outputs": [],
   "source": [
    "class ResidualBlock(nn.Module):\n",
    "    \"\"\"残差块 - 作为构建块\"\"\"\n",
    "    def __init__(self, channels):\n",
    "        super().__init__()\n",
    "        self.conv1 = nn.Conv2d(channels, channels, 3, padding=1)\n",
    "        self.conv2 = nn.Conv2d(channels, channels, 3, padding=1)\n",
    "        self.relu = nn.ReLU()\n",
    "    \n",
    "    def forward(self, x):\n",
    "        identity = x\n",
    "        x = self.relu(self.conv1(x))\n",
    "        x = self.conv2(x)\n",
    "        return self.relu(x + identity)\n",
    "\n",
    "class ComplexNetwork(nn.Module):\n",
    "    \"\"\"复杂网络 - 由多个块组成\"\"\"\n",
    "    def __init__(self):\n",
    "        super().__init__()\n",
    "        self.initial_conv = nn.Conv2d(3, 64, 7, stride=2, padding=3)\n",
    "        \n",
    "        # 嵌套多个残差块\n",
    "        self.res_blocks = nn.ModuleList([\n",
    "            ResidualBlock(64) for _ in range(4)\n",
    "        ])\n",
    "        \n",
    "        self.classifier = nn.Linear(64, 10)\n",
    "    \n",
    "    def forward(self, x):\n",
    "        x = self.initial_conv(x)\n",
    "        for block in self.res_blocks:\n",
    "            x = block(x)\n",
    "        x = x.mean([2, 3])  # 全局平均池化\n",
    "        return self.classifier(x)"
   ]
  },
  {
   "cell_type": "markdown",
   "id": "ba8ef157-8628-4bca-889b-94f964f4e12c",
   "metadata": {},
   "source": [
    "## 常用方法和功能\n",
    "### 参数管理方法"
   ]
  },
  {
   "cell_type": "code",
   "execution_count": 10,
   "id": "1858cb32-3bd2-46c4-86ae-16a02c09177f",
   "metadata": {},
   "outputs": [
    {
     "name": "stdout",
     "output_type": "stream",
     "text": [
      "initial_conv.weight: torch.Size([64, 3, 7, 7])\n",
      "initial_conv.bias: torch.Size([64])\n",
      "res_blocks.0.conv1.weight: torch.Size([64, 64, 3, 3])\n",
      "res_blocks.0.conv1.bias: torch.Size([64])\n",
      "res_blocks.0.conv2.weight: torch.Size([64, 64, 3, 3])\n",
      "res_blocks.0.conv2.bias: torch.Size([64])\n",
      "res_blocks.1.conv1.weight: torch.Size([64, 64, 3, 3])\n",
      "res_blocks.1.conv1.bias: torch.Size([64])\n",
      "res_blocks.1.conv2.weight: torch.Size([64, 64, 3, 3])\n",
      "res_blocks.1.conv2.bias: torch.Size([64])\n",
      "res_blocks.2.conv1.weight: torch.Size([64, 64, 3, 3])\n",
      "res_blocks.2.conv1.bias: torch.Size([64])\n",
      "res_blocks.2.conv2.weight: torch.Size([64, 64, 3, 3])\n",
      "res_blocks.2.conv2.bias: torch.Size([64])\n",
      "res_blocks.3.conv1.weight: torch.Size([64, 64, 3, 3])\n",
      "res_blocks.3.conv1.bias: torch.Size([64])\n",
      "res_blocks.3.conv2.weight: torch.Size([64, 64, 3, 3])\n",
      "res_blocks.3.conv2.bias: torch.Size([64])\n",
      "classifier.weight: torch.Size([10, 64])\n",
      "classifier.bias: torch.Size([10])\n",
      "子模块 initial_conv: Conv2d(3, 64, kernel_size=(7, 7), stride=(2, 2), padding=(3, 3))\n",
      "子模块 res_blocks: ModuleList(\n",
      "  (0-3): 4 x ResidualBlock(\n",
      "    (conv1): Conv2d(64, 64, kernel_size=(3, 3), stride=(1, 1), padding=(1, 1))\n",
      "    (conv2): Conv2d(64, 64, kernel_size=(3, 3), stride=(1, 1), padding=(1, 1))\n",
      "    (relu): ReLU()\n",
      "  )\n",
      ")\n",
      "子模块 classifier: Linear(in_features=64, out_features=10, bias=True)\n",
      "模块 : ComplexNetwork\n",
      "模块 initial_conv: Conv2d\n",
      "模块 res_blocks: ModuleList\n",
      "模块 res_blocks.0: ResidualBlock\n",
      "模块 res_blocks.0.conv1: Conv2d\n",
      "模块 res_blocks.0.conv2: Conv2d\n",
      "模块 res_blocks.0.relu: ReLU\n",
      "模块 res_blocks.1: ResidualBlock\n",
      "模块 res_blocks.1.conv1: Conv2d\n",
      "模块 res_blocks.1.conv2: Conv2d\n",
      "模块 res_blocks.1.relu: ReLU\n",
      "模块 res_blocks.2: ResidualBlock\n",
      "模块 res_blocks.2.conv1: Conv2d\n",
      "模块 res_blocks.2.conv2: Conv2d\n",
      "模块 res_blocks.2.relu: ReLU\n",
      "模块 res_blocks.3: ResidualBlock\n",
      "模块 res_blocks.3.conv1: Conv2d\n",
      "模块 res_blocks.3.conv2: Conv2d\n",
      "模块 res_blocks.3.relu: ReLU\n",
      "模块 classifier: Linear\n"
     ]
    }
   ],
   "source": [
    "model = ComplexNetwork()\n",
    "\n",
    "# 获取所有参数\n",
    "params = list(model.parameters())\n",
    "\n",
    "# 获取参数名称和值\n",
    "for name, param in model.named_parameters():\n",
    "    print(f\"{name}: {param.shape}\")\n",
    "\n",
    "# 获取所有子模块\n",
    "for name, module in model.named_children():\n",
    "    print(f\"子模块 {name}: {module}\")\n",
    "\n",
    "# 递归获取所有模块\n",
    "for name, module in model.named_modules():\n",
    "    print(f\"模块 {name}: {type(module).__name__}\")"
   ]
  },
  {
   "cell_type": "markdown",
   "id": "f614c2a5-6e4a-4dcc-b1c4-861cf986230c",
   "metadata": {},
   "source": [
    "### 训练和评估模式"
   ]
  },
  {
   "cell_type": "code",
   "execution_count": 11,
   "id": "f959a82d-8bec-451f-b08b-8cf015d7fe9b",
   "metadata": {},
   "outputs": [
    {
     "name": "stdout",
     "output_type": "stream",
     "text": [
      "训练模式: True\n",
      "训练模式: False\n"
     ]
    },
    {
     "ename": "NameError",
     "evalue": "name 'input_data' is not defined",
     "output_type": "error",
     "traceback": [
      "\u001b[1;31m---------------------------------------------------------------------------\u001b[0m",
      "\u001b[1;31mNameError\u001b[0m                                 Traceback (most recent call last)",
      "Cell \u001b[1;32mIn[11], line 12\u001b[0m\n\u001b[0;32m     10\u001b[0m \u001b[38;5;28;01mwith\u001b[39;00m torch\u001b[38;5;241m.\u001b[39mno_grad():  \u001b[38;5;66;03m# 禁用梯度计算，节省内存\u001b[39;00m\n\u001b[0;32m     11\u001b[0m     model\u001b[38;5;241m.\u001b[39meval()\n\u001b[1;32m---> 12\u001b[0m     output \u001b[38;5;241m=\u001b[39m model(\u001b[43minput_data\u001b[49m)\n",
      "\u001b[1;31mNameError\u001b[0m: name 'input_data' is not defined"
     ]
    }
   ],
   "source": [
    "# 训练模式（默认）\n",
    "model.train()\n",
    "print(\"训练模式:\", model.training)  # True\n",
    "\n",
    "# 评估模式（影响Dropout、BatchNorm等层的行为）\n",
    "model.eval()\n",
    "print(\"训练模式:\", model.training)  # False\n",
    "\n",
    "# 在评估模式下进行推理\n",
    "with torch.no_grad():  # 禁用梯度计算，节省内存\n",
    "    model.eval()\n",
    "    output = model(input_data)"
   ]
  },
  {
   "cell_type": "markdown",
   "id": "a6a1b5ed-f4e1-4863-b714-fd7a6723999f",
   "metadata": {},
   "source": [
    "### 设备管理"
   ]
  },
  {
   "cell_type": "code",
   "execution_count": null,
   "id": "fe6252e6-88d9-4053-b073-20b250d6e25e",
   "metadata": {},
   "outputs": [],
   "source": [
    "# 将模型移动到设备\n",
    "device = torch.device('cuda' if torch.cuda.is_available() else 'cpu')\n",
    "model = model.to(device)\n",
    "\n",
    "# 检查模型参数所在的设备\n",
    "print(next(model.parameters()).device)"
   ]
  },
  {
   "cell_type": "markdown",
   "id": "5b46dfcc-17be-466a-b14c-253d3e06cb96",
   "metadata": {},
   "source": [
    "## 实际应用示例\n",
    "### 示例1：完整的图像分类网络"
   ]
  },
  {
   "cell_type": "code",
   "execution_count": null,
   "id": "1457e364-8259-41b9-a68d-ef16b5d6fcd0",
   "metadata": {},
   "outputs": [],
   "source": [
    "import torch\n",
    "import torch.nn as nn\n",
    "import torch.nn.functional as F\n",
    "\n",
    "class CNNClassifier(nn.Module):\n",
    "    def __init__(self, num_classes=10):\n",
    "        super().__init__()\n",
    "        self.conv_layers = nn.Sequential(\n",
    "            nn.Conv2d(3, 32, 3, padding=1),\n",
    "            nn.ReLU(),\n",
    "            nn.MaxPool2d(2),\n",
    "            nn.Conv2d(32, 64, 3, padding=1),\n",
    "            nn.ReLU(),\n",
    "            nn.MaxPool2d(2),\n",
    "        )\n",
    "        self.fc_layers = nn.Sequential(\n",
    "            nn.Linear(64 * 8 * 8, 128),\n",
    "            nn.ReLU(),\n",
    "            nn.Dropout(0.5),\n",
    "            nn.Linear(128, num_classes)\n",
    "        )\n",
    "    \n",
    "    def forward(self, x):\n",
    "        x = self.conv_layers(x)\n",
    "        x = x.view(x.size(0), -1)  # 展平\n",
    "        x = self.fc_layers(x)\n",
    "        return x\n",
    "\n",
    "# 使用网络\n",
    "model = CNNClassifier(num_classes=10)\n",
    "print(model)\n",
    "\n",
    "# 模拟输入\n",
    "x = torch.randn(4, 3, 32, 32)  # batch_size=4, 3通道, 32x32\n",
    "output = model(x)\n",
    "print(\"输出形状:\", output.shape)"
   ]
  },
  {
   "cell_type": "markdown",
   "id": "2b3abea4-257c-4069-bf2e-edb946dacc6e",
   "metadata": {},
   "source": [
    "### 示例2：使用 nn.ModuleList 和 nn.ModuleDict"
   ]
  },
  {
   "cell_type": "code",
   "execution_count": null,
   "id": "ffd883a4-03d0-42d2-89d1-4ad764a0f535",
   "metadata": {},
   "outputs": [],
   "source": [
    "class DynamicNetwork(nn.Module):\n",
    "    def __init__(self, layer_sizes):\n",
    "        super().__init__()\n",
    "        \n",
    "        # 使用 ModuleList 管理动态数量的层\n",
    "        self.layers = nn.ModuleList()\n",
    "        for i in range(len(layer_sizes) - 1):\n",
    "            self.layers.append(nn.Linear(layer_sizes[i], layer_sizes[i+1]))\n",
    "        \n",
    "        # 使用 ModuleDict 管理不同类型的激活函数\n",
    "        self.activations = nn.ModuleDict({\n",
    "            'relu': nn.ReLU(),\n",
    "            'sigmoid': nn.Sigmoid(),\n",
    "            'tanh': nn.Tanh()\n",
    "        })\n",
    "        \n",
    "        self.current_activation = 'relu'\n",
    "    \n",
    "    def forward(self, x):\n",
    "        for i, layer in enumerate(self.layers):\n",
    "            x = layer(x)\n",
    "            if i < len(self.layers) - 1:  # 除了最后一层都加激活函数\n",
    "                x = self.activations[self.current_activation](x)\n",
    "        return x\n",
    "    \n",
    "    def set_activation(self, activation_name):\n",
    "        self.current_activation = activation_name"
   ]
  },
  {
   "cell_type": "markdown",
   "id": "cc37feed-363c-46a0-86d2-172306fd1c39",
   "metadata": {},
   "source": [
    "## 模型保存和加载"
   ]
  },
  {
   "cell_type": "code",
   "execution_count": null,
   "id": "d4d13610-26e3-461a-8997-bf5394b93322",
   "metadata": {},
   "outputs": [],
   "source": [
    "# 保存整个模型\n",
    "torch.save(model, 'model.pth')\n",
    "loaded_model = torch.load('model.pth')\n",
    "\n",
    "# 只保存状态字典（推荐）\n",
    "torch.save(model.state_dict(), 'model_state.pth')\n",
    "\n",
    "# 加载状态字典\n",
    "new_model = CNNClassifier()\n",
    "new_model.load_state_dict(torch.load('model_state.pth'))"
   ]
  },
  {
   "cell_type": "markdown",
   "id": "e7c5737d-043b-4161-b217-91c6c7ba4a30",
   "metadata": {},
   "source": [
    "## 最佳实践\n",
    "### 1. 始终调用 super().__init__()"
   ]
  },
  {
   "cell_type": "code",
   "execution_count": null,
   "id": "045d459a-e948-4ece-ae41-c3f5f4f0f3de",
   "metadata": {},
   "outputs": [],
   "source": [
    "class CorrectNet(nn.Module):\n",
    "    def __init__(self):\n",
    "        super().__init__()  # 必须调用！\n",
    "        self.layer = nn.Linear(10, 5)"
   ]
  },
  {
   "cell_type": "markdown",
   "id": "7e856a3b-1744-49bd-9146-5a1ed0a343a5",
   "metadata": {},
   "source": [
    "### 2. 在 __init__ 中定义所有层，在 forward 中定义计算"
   ]
  },
  {
   "cell_type": "code",
   "execution_count": null,
   "id": "49e27c98-82a0-464b-ae58-1ee3bac52ba5",
   "metadata": {},
   "outputs": [],
   "source": [
    "class GoodDesign(nn.Module):\n",
    "    def __init__(self):\n",
    "        super().__init__()\n",
    "        self.layer1 = nn.Linear(10, 20)  # 在 init 中定义\n",
    "        self.layer2 = nn.Linear(20, 1)\n",
    "        self.dropout = nn.Dropout(0.5)\n",
    "    \n",
    "    def forward(self, x):\n",
    "        x = F.relu(self.layer1(x))  # 在 forward 中组织计算\n",
    "        x = self.dropout(x)\n",
    "        return self.layer2(x)"
   ]
  },
  {
   "cell_type": "markdown",
   "id": "65d1649d-7bf7-4d8c-b2dd-67015408f4b9",
   "metadata": {},
   "source": [
    "### 3. 使用 nn.Sequential 组织简单的层序列"
   ]
  },
  {
   "cell_type": "code",
   "execution_count": null,
   "id": "2a142145-f316-4c7a-af5a-3e9ab8c051f3",
   "metadata": {},
   "outputs": [],
   "source": [
    "class SequentialNet(nn.Module):\n",
    "    def __init__(self):\n",
    "        super().__init__()\n",
    "        self.features = nn.Sequential(\n",
    "            nn.Linear(784, 256),\n",
    "            nn.ReLU(),\n",
    "            nn.Dropout(0.2),\n",
    "            nn.Linear(256, 128),\n",
    "            nn.ReLU(),\n",
    "            nn.Dropout(0.2),\n",
    "            nn.Linear(128, 10)\n",
    "        )\n",
    "    \n",
    "    def forward(self, x):\n",
    "        return self.features(x)"
   ]
  }
 ],
 "metadata": {
  "kernelspec": {
   "display_name": "dl",
   "language": "python",
   "name": "dl"
  },
  "language_info": {
   "codemirror_mode": {
    "name": "ipython",
    "version": 3
   },
   "file_extension": ".py",
   "mimetype": "text/x-python",
   "name": "python",
   "nbconvert_exporter": "python",
   "pygments_lexer": "ipython3",
   "version": "3.9.23"
  }
 },
 "nbformat": 4,
 "nbformat_minor": 5
}
